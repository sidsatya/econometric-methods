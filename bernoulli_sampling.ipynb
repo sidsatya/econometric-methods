{
 "cells": [
  {
   "cell_type": "code",
   "execution_count": 1,
   "metadata": {},
   "outputs": [],
   "source": [
    "import numpy as np\n",
    "import pandas as pd\n",
    "import matplotlib.pyplot as plt"
   ]
  },
  {
   "cell_type": "markdown",
   "metadata": {},
   "source": [
    "**Bernoulli Sampling**\n",
    "\n",
    "Draws **r** replications of sample size **n** from a $Bernoulli(p)$\n",
    "distribution. Then calculates the sample means, sample standard deviations, and sample 95% confidence intervals. Also determines whether or not the true mean of the sample lies within the calculated confidence interval. \n",
    "\n",
    "The equation for the 95% confidence interval is given by: \n",
    "\n",
    "$CI = (\\bar{Y_{r}} - \\dfrac{1.96s_{r}}{n^{1/2}},\\bar{Y_{r}} + \\dfrac{1.96s_{r}}{n^{1/2}}) $\n",
    "\n",
    "where $\\bar{Y_{r}}$ is the sample mean, $s_{r}$ is the sample standard deviation, and $n$ is the size of the sample."
   ]
  },
  {
   "cell_type": "code",
   "execution_count": 2,
   "metadata": {},
   "outputs": [],
   "source": [
    "# define initial parameters\n",
    "n = 5       # sample size\n",
    "p = 0.1     # probability \n",
    "r = 1000    # replications \n",
    "\n",
    "def bernoulli_samples(n,p,r): \n",
    "    sample_means = [] \n",
    "    sample_stds = [] \n",
    "    confidence_intervals = [] \n",
    "    inside_interval = [] \n",
    "    \n",
    "    \n",
    "    # run each replication \n",
    "    for trial in  range(r): \n",
    "        # draw the sample\n",
    "        sample = np.random.binomial(1,p,n)\n",
    "        \n",
    "        # calculate sample mean\n",
    "        mu = np.mean(sample)\n",
    "        sample_means.append(mu)\n",
    "        \n",
    "        # calculate sample std. deviation\n",
    "        sigma = np.sqrt(mu*(1-mu))\n",
    "        sample_stds.append(sigma)\n",
    "        \n",
    "        # calculate the sample 95% confidence interval \n",
    "        ci = [mu - 1.96*sigma/np.sqrt(n), mu + 1.96*sigma/np.sqrt(n)]\n",
    "        confidence_intervals.append(ci) \n",
    "        \n",
    "        # determine if true mean is inside the calculated interval \n",
    "        inside = 1 if (p >= ci[0] and p <= ci[1]) else 0 \n",
    "        inside_interval.append(inside) \n",
    "        \n",
    "\n",
    "    # determine proportion of confidence intervals with true mean inside interval \n",
    "    true_prop = sum(inside_interval)/len(inside_interval)\n",
    "    \n",
    "    return np.mean(sample_means), np.mean(sample_stds), true_prop"
   ]
  },
  {
   "cell_type": "markdown",
   "metadata": {},
   "source": [
    "We can use the above function to evaluate the claim that a sample size of 30 is enough to ensure that asymptotic confidence intervals work well. In order to do this, we must find the mean estimate of $p$ and the mean estimate of the true standard deviation and compare across sample sizes."
   ]
  },
  {
   "cell_type": "code",
   "execution_count": 4,
   "metadata": {},
   "outputs": [],
   "source": [
    "param_n = [10, 30, 60, 10, 30, 60]\n",
    "param_p = [0.05, 0.05, 0.05, 0.25, 0.25, 0.25]\n",
    "\n",
    "\n",
    "# calculate estiamtes\n",
    "p_hat1, sigma_hat1, prop_inside1 = bernoulli_samples(param_n[0], param_p[0], 1000)\n",
    "p_hat2, sigma_hat2, prop_inside2 = bernoulli_samples(param_n[1], param_p[1], 1000)\n",
    "p_hat3, sigma_hat3, prop_inside3 = bernoulli_samples(param_n[2], param_p[2], 1000)\n",
    "\n",
    "p_hat4, sigma_hat4, prop_inside4 = bernoulli_samples(param_n[3], param_p[3], 1000)\n",
    "p_hat5, sigma_hat5, prop_inside5 = bernoulli_samples(param_n[4], param_p[4], 1000)\n",
    "p_hat6, sigma_hat6, prop_inside6 = bernoulli_samples(param_n[5], param_p[5], 1000)\n",
    "\n",
    "# compile results\n",
    "p_hats = [p_hat1, p_hat2, p_hat3, \n",
    "          p_hat4, p_hat5, p_hat6]\n",
    "\n",
    "sigma_hats = [sigma_hat1, sigma_hat2, sigma_hat3, \n",
    "              sigma_hat4, sigma_hat5, sigma_hat6]\n",
    "\n",
    "inside_interval = [prop_inside1, prop_inside2, prop_inside3, \n",
    "                   prop_inside4, prop_inside5, prop_inside6]"
   ]
  },
  {
   "cell_type": "code",
   "execution_count": 5,
   "metadata": {},
   "outputs": [
    {
     "data": {
      "text/html": [
       "<div>\n",
       "<style scoped>\n",
       "    .dataframe tbody tr th:only-of-type {\n",
       "        vertical-align: middle;\n",
       "    }\n",
       "\n",
       "    .dataframe tbody tr th {\n",
       "        vertical-align: top;\n",
       "    }\n",
       "\n",
       "    .dataframe thead th {\n",
       "        text-align: right;\n",
       "    }\n",
       "</style>\n",
       "<table border=\"1\" class=\"dataframe\">\n",
       "  <thead>\n",
       "    <tr style=\"text-align: right;\">\n",
       "      <th></th>\n",
       "      <th>n</th>\n",
       "      <th>p</th>\n",
       "      <th>Estimate of p</th>\n",
       "      <th>Estimate of std. dev.</th>\n",
       "      <th>Fraction inside CI</th>\n",
       "    </tr>\n",
       "  </thead>\n",
       "  <tbody>\n",
       "    <tr>\n",
       "      <th>0</th>\n",
       "      <td>10</td>\n",
       "      <td>0.05</td>\n",
       "      <td>0.051000</td>\n",
       "      <td>0.132699</td>\n",
       "      <td>0.411</td>\n",
       "    </tr>\n",
       "    <tr>\n",
       "      <th>1</th>\n",
       "      <td>30</td>\n",
       "      <td>0.05</td>\n",
       "      <td>0.048867</td>\n",
       "      <td>0.183274</td>\n",
       "      <td>0.791</td>\n",
       "    </tr>\n",
       "    <tr>\n",
       "      <th>2</th>\n",
       "      <td>60</td>\n",
       "      <td>0.05</td>\n",
       "      <td>0.050183</td>\n",
       "      <td>0.207136</td>\n",
       "      <td>0.808</td>\n",
       "    </tr>\n",
       "    <tr>\n",
       "      <th>3</th>\n",
       "      <td>10</td>\n",
       "      <td>0.25</td>\n",
       "      <td>0.248100</td>\n",
       "      <td>0.394296</td>\n",
       "      <td>0.933</td>\n",
       "    </tr>\n",
       "    <tr>\n",
       "      <th>4</th>\n",
       "      <td>30</td>\n",
       "      <td>0.25</td>\n",
       "      <td>0.250100</td>\n",
       "      <td>0.422194</td>\n",
       "      <td>0.929</td>\n",
       "    </tr>\n",
       "    <tr>\n",
       "      <th>5</th>\n",
       "      <td>60</td>\n",
       "      <td>0.25</td>\n",
       "      <td>0.251750</td>\n",
       "      <td>0.429318</td>\n",
       "      <td>0.949</td>\n",
       "    </tr>\n",
       "  </tbody>\n",
       "</table>\n",
       "</div>"
      ],
      "text/plain": [
       "    n     p  Estimate of p  Estimate of std. dev.  Fraction inside CI\n",
       "0  10  0.05       0.051000               0.132699               0.411\n",
       "1  30  0.05       0.048867               0.183274               0.791\n",
       "2  60  0.05       0.050183               0.207136               0.808\n",
       "3  10  0.25       0.248100               0.394296               0.933\n",
       "4  30  0.25       0.250100               0.422194               0.929\n",
       "5  60  0.25       0.251750               0.429318               0.949"
      ]
     },
     "execution_count": 5,
     "metadata": {},
     "output_type": "execute_result"
    }
   ],
   "source": [
    "# display results \n",
    "results_df = pd.DataFrame({'n': param_n, 'p': param_p, 'Estimate of p': p_hats, \n",
    "                           'Estimate of std. dev.': sigma_hats, 'Fraction inside CI': inside_interval})\n",
    "\n",
    "results_df"
   ]
  },
  {
   "cell_type": "markdown",
   "metadata": {},
   "source": [
    "Looking at the results above, we can see that there is not much a difference for the fraction of confidence intervals that contain the true mean between values of n = 30 and n = 60. Furthermore, the estimates of the p and sigma are very similar for n = 30 and n = 60. Comparing these to the estimates when n = 10, we can see that the estimated standard deviation varies more between n = 10 and n = 60. Overall, this suggests that there is not a significant benefit to using values of n that are much larger than 30 when trying to estimate the true mean of samples. Therefore, I would agree with the claim that an n of 30 or larger is enough to ensure that asymptotic confidence intervals work well. "
   ]
  }
 ],
 "metadata": {
  "kernelspec": {
   "display_name": "Python 3",
   "language": "python",
   "name": "python3"
  },
  "language_info": {
   "codemirror_mode": {
    "name": "ipython",
    "version": 3
   },
   "file_extension": ".py",
   "mimetype": "text/x-python",
   "name": "python",
   "nbconvert_exporter": "python",
   "pygments_lexer": "ipython3",
   "version": "3.7.4"
  }
 },
 "nbformat": 4,
 "nbformat_minor": 4
}
